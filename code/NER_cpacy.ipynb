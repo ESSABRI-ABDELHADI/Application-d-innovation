import spacy

def phrase_balisé(doc):

    nlp = spacy.load("fr_core_web_sm")
    st=doc
    doc=nlp(doc)
    global pas
    pas=0
    for ent in doc.ents:
        
        tag='['+ent.label_+']' # définir la balise 
        end_tag='['+ent.label_+'/]' # définir la fin de la balise 
   

        if ent.start_char==0: # si le mot concerné se trouve au début
            st=st[:ent.start_char] +tag +' '+ st[ent.start_char:]
            
            '''on ajoute le len(tag)+1 car le text a été décalé par le nombre 
            de caractères de la balise balise plus un espace(c'est pour ça  le 1) '''
            st=st[:ent.end_char+len(tag)+1] +' '+ end_tag + st[ent.end_char+len(tag)+1:] 
            ''' le text a été décalé par la taille des deux balises plus les deux espaces'''
            pas=len(tag)+len(end_tag)+2
        else:
            '''si le mot concerné ne se trouve pas au début du text
            on suit les memes étapes avec la meme idée'''
      
            st=st[:ent.start_char+pas] + tag+' ' + st[ent.start_char+pas:]
            pas+=(len(tag)+1)
            st=st[:ent.end_char+pas] +' '+ end_tag + st[ent.end_char+pas:]
            pas+=(len(end_tag)+1)

    print('le text original est:\n\n  {}'.format(doc)) 
    print('\n le text balisé est:\n\n {} '.format(st))
