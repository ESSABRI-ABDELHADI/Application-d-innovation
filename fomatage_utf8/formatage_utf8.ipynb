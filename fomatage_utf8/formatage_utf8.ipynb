{
 "cells": [
  {
   "cell_type": "code",
   "execution_count": 1,
   "id": "6bfcf246",
   "metadata": {},
   "outputs": [],
   "source": [
    "import PyPDF2\n",
    "import glob\n",
    "import os"
   ]
  },
  {
   "cell_type": "code",
   "execution_count": 2,
   "id": "6f89d869",
   "metadata": {},
   "outputs": [],
   "source": [
    "def extract_text_from_pdf(pdf_path):\n",
    "    text = \"\"\n",
    "    with open(pdf_path, \"rb\") as pdf_file:\n",
    "        pdf_reader = PyPDF2.PdfReader(pdf_file)\n",
    "        num_pages = len(pdf_reader.pages)\n",
    "        for page_num in range(num_pages):\n",
    "            page = pdf_reader.pages[page_num]\n",
    "            text += page.extract_text()\n",
    "    return text"
   ]
  },
  {
   "cell_type": "code",
   "execution_count": 3,
   "id": "c673bd72",
   "metadata": {},
   "outputs": [],
   "source": [
    "repertoire_pdf = \"../data/Corpus_ASIMOV/\"\n",
    "\n"
   ]
  },
  {
   "cell_type": "code",
   "execution_count": 4,
   "id": "0e6c4121",
   "metadata": {},
   "outputs": [],
   "source": [
    "fichiers_pdf = glob.glob(repertoire_pdf + \"*.pdf\")"
   ]
  },
  {
   "cell_type": "code",
   "execution_count": 5,
   "id": "05e0aa0d",
   "metadata": {},
   "outputs": [],
   "source": [
    "for pdf_path in fichiers_pdf:\n",
    "    # Extraction du texte du PDF en UTF-8\n",
    "    text_from_pdf = extract_text_from_pdf(pdf_path)\n",
    "\n",
    "    # Obtenez le nom du fichier PDF sans l'extension\n",
    "    nom_fichier_pdf = os.path.splitext(os.path.basename(pdf_path))[0]\n",
    "\n",
    "    # Enregistrez le texte extrait dans un fichier TXT avec le même nom que le PDF\n",
    "    with open(f\"{nom_fichier_pdf}.txt\", \"w\", encoding=\"utf-8\") as txt_file:\n",
    "        txt_file.write(text_from_pdf)\n",
    "\n"
   ]
  },
  {
   "cell_type": "code",
   "execution_count": 6,
   "id": "d9b1fead",
   "metadata": {},
   "outputs": [],
   "source": [
    "fichier_concatene = \"../fomatage_utf8/corpus_ASIMOV.txt\"\n",
    "repertoir_txt = \"../fomatage_utf8/\""
   ]
  },
  {
   "cell_type": "code",
   "execution_count": null,
   "id": "c5ae51f4",
   "metadata": {},
   "outputs": [],
   "source": []
  },
  {
   "cell_type": "code",
   "execution_count": 7,
   "id": "363ec1b6",
   "metadata": {},
   "outputs": [],
   "source": [
    "with open(fichier_concatene, \"w\", encoding=\"utf-8\") as sortie:\n",
    "    # Utilisez os.listdir() pour obtenir la liste des fichiers texte dans le répertoire\n",
    "    fichiers_txt = [f for f in os.listdir(repertoir_txt) if f.endswith(\".txt\")]\n",
    "    \n",
    "    # Parcourez chaque fichier texte\n",
    "    for fichier in fichiers_txt:\n",
    "        chemin_fichier = os.path.join(repertoir_txt, fichier)\n",
    "        \n",
    "        # Ouvrez le fichier texte en mode lecture\n",
    "        with open(chemin_fichier, \"r\", encoding=\"utf-8\") as fichier_txt:\n",
    "            contenu = fichier_txt.read()\n",
    "            \n",
    "            # Écrivez le contenu du fichier texte dans le fichier de sortie\n",
    "            sortie.write(contenu)\n",
    "            # Ajoutez une ligne vide entre les fichiers concaténés\n",
    "            sortie.write(\"\\n\")"
   ]
  },
  {
   "cell_type": "code",
   "execution_count": null,
   "id": "7bdf9a5d",
   "metadata": {},
   "outputs": [],
   "source": []
  }
 ],
 "metadata": {
  "kernelspec": {
   "display_name": "Python 3 (ipykernel)",
   "language": "python",
   "name": "python3"
  },
  "language_info": {
   "codemirror_mode": {
    "name": "ipython",
    "version": 3
   },
   "file_extension": ".py",
   "mimetype": "text/x-python",
   "name": "python",
   "nbconvert_exporter": "python",
   "pygments_lexer": "ipython3",
   "version": "3.9.12"
  }
 },
 "nbformat": 4,
 "nbformat_minor": 5
}
